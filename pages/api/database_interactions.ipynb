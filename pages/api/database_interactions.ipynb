{
 "cells": [
  {
   "cell_type": "markdown",
   "id": "d2008b7d-14f0-44cb-8a4b-43009f32dbd2",
   "metadata": {
    "tags": []
   },
   "source": [
    "## EchemDB Website content"
   ]
  },
  {
   "cell_type": "markdown",
   "id": "186d2ae2-f876-4299-9111-255fd083732a",
   "metadata": {},
   "source": [
    "The content of [EchemDB Website](https://echemdb.github.io/) can be stored in a local database."
   ]
  },
  {
   "cell_type": "code",
   "execution_count": 5,
   "id": "f09b8072-a44e-4625-a174-8803447e6656",
   "metadata": {},
   "outputs": [],
   "source": [
    "from echemdb.data.cv.database import Database\n",
    "db = Database()"
   ]
  },
  {
   "cell_type": "markdown",
   "id": "67992e73-548b-4d02-80d8-55a768360e8a",
   "metadata": {},
   "source": [
    "### Database interaction"
   ]
  },
  {
   "cell_type": "markdown",
   "id": "97ef454f-7725-448a-b7da-80317e55cbd0",
   "metadata": {},
   "source": [
    "The number of entries in the databse"
   ]
  },
  {
   "cell_type": "code",
   "execution_count": 7,
   "id": "2f322231-83a4-459d-83e5-39c101942bd7",
   "metadata": {},
   "outputs": [
    {
     "data": {
      "text/plain": [
       "137"
      ]
     },
     "execution_count": 7,
     "metadata": {},
     "output_type": "execute_result"
    }
   ],
   "source": [
    "len(db)"
   ]
  },
  {
   "cell_type": "markdown",
   "id": "eff3a317-69da-4644-9567-c61cf8905bb8",
   "metadata": {},
   "source": [
    "You can iterate over these entries"
   ]
  },
  {
   "cell_type": "code",
   "execution_count": 30,
   "id": "fdb862a8-d54c-47cf-b6e0-7abb615c2e8c",
   "metadata": {},
   "outputs": [
    {
     "data": {
      "text/plain": [
       "Entry('alves_2011_electrochemistry_6010_p2_f2a_solid')"
      ]
     },
     "execution_count": 30,
     "metadata": {},
     "output_type": "execute_result"
    }
   ],
   "source": [
    "next(iter(db))"
   ]
  },
  {
   "cell_type": "markdown",
   "id": "ed3b1dcc-1713-4fb9-ac27-d8d495cfb2d8",
   "metadata": {},
   "source": [
    "The database can be filtered for specific descriptors (see below) which returns a new database."
   ]
  },
  {
   "cell_type": "code",
   "execution_count": 35,
   "id": "21db88e7-48a9-4654-abcf-15beb1e363b7",
   "metadata": {},
   "outputs": [
    {
     "name": "stdout",
     "output_type": "stream",
     "text": [
      "78 entries contain Pt as working electrode material.\n"
     ]
    }
   ],
   "source": [
    "db_filtered = db.filter(lambda entry: entry.electrochemical_system.electrodes.working_electrode.material == 'Pt')\n",
    "print(f'{len(db_filtered)} entries contain Pt as working electrode material.')"
   ]
  },
  {
   "cell_type": "markdown",
   "id": "ffe59472-3862-47db-9bb4-0cd6161744f3",
   "metadata": {},
   "source": [
    "Single entries can be selected by their identifier provided on the [echemDB website](https://echemdb.github.io/) for each entry."
   ]
  },
  {
   "cell_type": "code",
   "execution_count": 59,
   "id": "7c55552e-7110-4530-adc7-03fa7a5639c8",
   "metadata": {},
   "outputs": [
    {
     "data": {
      "text/plain": [
       "Entry('alves_2011_electrochemistry_6010_p2_f2a_solid')"
      ]
     },
     "execution_count": 59,
     "metadata": {},
     "output_type": "execute_result"
    }
   ],
   "source": [
    "entry = db['alves_2011_electrochemistry_6010_p2_f2a_solid']\n",
    "entry"
   ]
  }
 ],
 "metadata": {
  "jupytext": {
   "formats": "ipynb,md"
  },
  "kernelspec": {
   "display_name": "Python 3 (ipykernel)",
   "language": "python",
   "name": "python3"
  },
  "language_info": {
   "codemirror_mode": {
    "name": "ipython",
    "version": 3
   },
   "file_extension": ".py",
   "mimetype": "text/x-python",
   "name": "python",
   "nbconvert_exporter": "python",
   "pygments_lexer": "ipython3",
   "version": "3.10.0"
  }
 },
 "nbformat": 4,
 "nbformat_minor": 5
}
