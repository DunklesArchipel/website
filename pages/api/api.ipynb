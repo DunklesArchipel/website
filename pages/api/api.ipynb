{
 "cells": [
  {
   "cell_type": "markdown",
   "id": "2dd9c66c-7c29-4b3e-8f65-134ffef230f7",
   "metadata": {},
   "source": [
    "The `echemdb` module provides direct access to the database and the entries presented on the [EchemDB Website](https://echemdb.github.io/). \n",
    "\n",
    "A database can also be created from local files which have the same file structure."
   ]
  },
  {
   "cell_type": "markdown",
   "id": "9834199d-6305-4dda-a1b3-95bf7336291f",
   "metadata": {
    "tags": []
   },
   "source": [
    "## Installation"
   ]
  },
  {
   "cell_type": "raw",
   "id": "216492d2-f428-4184-9e6b-6bfa39a99837",
   "metadata": {},
   "source": [
    "<!-- Detailed installation instructions can be found elsewhere -->"
   ]
  },
  {
   "cell_type": "markdown",
   "id": "87b1d98f-079d-42a3-b863-f7329c74af05",
   "metadata": {},
   "source": [
    "The repository can be downloaded from the [EchemDB Github Repostory](https://github.com/echemdb/website) or via"
   ]
  },
  {
   "cell_type": "markdown",
   "id": "97ecca6c-0c94-4beb-a29f-6691a55bf70f",
   "metadata": {},
   "source": [
    "```sh .noeval\n",
    "git clone git@github.com:echemdb/website.git\n",
    "```"
   ]
  },
  {
   "cell_type": "markdown",
   "id": "c42bc85d-25e0-4fd8-bf29-aeead0450422",
   "metadata": {},
   "source": [
    "Install all dependencies"
   ]
  },
  {
   "cell_type": "markdown",
   "id": "b0121445-9684-4183-90a9-ff6e257e1b43",
   "metadata": {},
   "source": [
    "```sh .noeval\n",
    "cd website\n",
    "conda env create --file environment.yml\n",
    "```"
   ]
  },
  {
   "cell_type": "markdown",
   "id": "5c65cfed-7072-4273-b21a-bbcb692c8af9",
   "metadata": {},
   "source": [
    "Switch to the correct environment and install echemdb:"
   ]
  },
  {
   "cell_type": "markdown",
   "id": "c150f762-bca5-498e-b2f0-b0e798c661c4",
   "metadata": {},
   "source": [
    "```sh .noeval\n",
    "conda actiavte echemdb\n",
    "pip install -e .\n",
    "```"
   ]
  },
  {
   "cell_type": "markdown",
   "id": "22770019-f835-4477-8781-f3b530727af8",
   "metadata": {
    "tags": []
   },
   "source": [
    "## EchemDB Website content"
   ]
  },
  {
   "cell_type": "markdown",
   "id": "99bb2c73-b5af-42c7-b2da-18c602de24a9",
   "metadata": {},
   "source": [
    "The content of [EchemDB Website](https://echemdb.github.io/) can be stored in a local database."
   ]
  },
  {
   "cell_type": "code",
   "execution_count": 5,
   "id": "cb47627a-aea3-49ac-b88f-4eb3e12f8e76",
   "metadata": {},
   "outputs": [],
   "source": [
    "from echemdb.data.cv.database import Database\n",
    "db = Database()"
   ]
  },
  {
   "cell_type": "markdown",
   "id": "fc88ee6b-478a-42ec-b594-44af26bc0bd2",
   "metadata": {},
   "source": [
    "### Database interaction"
   ]
  },
  {
   "cell_type": "markdown",
   "id": "2ed139db-af6f-4a9b-af67-f3f5edefcdce",
   "metadata": {},
   "source": [
    "The number of entries in the databse"
   ]
  },
  {
   "cell_type": "code",
   "execution_count": 7,
   "id": "3f5c4596-c300-43eb-9119-5ca8f94ab207",
   "metadata": {},
   "outputs": [
    {
     "data": {
      "text/plain": [
       "137"
      ]
     },
     "execution_count": 7,
     "metadata": {},
     "output_type": "execute_result"
    }
   ],
   "source": [
    "len(db)"
   ]
  },
  {
   "cell_type": "markdown",
   "id": "697a07d2-a977-4f6c-9bef-864561865692",
   "metadata": {},
   "source": [
    "You can iterate over these entries"
   ]
  },
  {
   "cell_type": "code",
   "execution_count": 30,
   "id": "a7b65d50-ff5d-4f60-a7c5-5a511cd0a7e6",
   "metadata": {},
   "outputs": [
    {
     "data": {
      "text/plain": [
       "Entry('alves_2011_electrochemistry_6010_p2_f2a_solid')"
      ]
     },
     "execution_count": 30,
     "metadata": {},
     "output_type": "execute_result"
    }
   ],
   "source": [
    "next(iter(db))"
   ]
  },
  {
   "cell_type": "markdown",
   "id": "21dd6c60-2bec-4089-8044-3762152e4ce6",
   "metadata": {},
   "source": [
    "The database can be filtered for specific descriptors (see below) which returns a new database."
   ]
  },
  {
   "cell_type": "code",
   "execution_count": 35,
   "id": "5d76738f-962c-4e25-b39e-89d29261e563",
   "metadata": {},
   "outputs": [
    {
     "name": "stdout",
     "output_type": "stream",
     "text": [
      "78 entries contain Pt as working electrode material.\n"
     ]
    }
   ],
   "source": [
    "db_filtered = db.filter(lambda entry: entry.electrochemical_system.electrodes.working_electrode.material == 'Pt')\n",
    "print(f'{len(db_filtered)} entries contain Pt as working electrode material.')"
   ]
  },
  {
   "cell_type": "markdown",
   "id": "7103a4af-e821-4b58-ad5e-2cde4e1a7548",
   "metadata": {},
   "source": [
    "Single entries can be selected by their identifier provided on the [echemDB website](https://echemdb.github.io/) for each entry."
   ]
  },
  {
   "cell_type": "code",
   "execution_count": 59,
   "id": "4f401d60-05f6-453b-b1b1-557ce7bb9a2b",
   "metadata": {},
   "outputs": [
    {
     "data": {
      "text/plain": [
       "Entry('alves_2011_electrochemistry_6010_p2_f2a_solid')"
      ]
     },
     "execution_count": 59,
     "metadata": {},
     "output_type": "execute_result"
    }
   ],
   "source": [
    "entry = db['alves_2011_electrochemistry_6010_p2_f2a_solid']\n",
    "entry"
   ]
  },
  {
   "cell_type": "markdown",
   "id": "63c6ac01-a6b2-4bfb-b2e8-d006ff3228f5",
   "metadata": {
    "tags": []
   },
   "source": [
    "## Entry interactions"
   ]
  },
  {
   "cell_type": "markdown",
   "id": "949332c7-7ab6-4ab7-ba7c-efe635e5649c",
   "metadata": {},
   "source": [
    "Each entry consits of a number of decsriptors containing metadata describing the entry, imported from the YAML files associated with the digitized data. For reference, the YAML files are located in the respective literature folders in the repository.\n",
    "* `source`: details on the respective publication and the figure from which the data was generated\n",
    "* `figure_description`: details about the original axis properties and other measurements linked to the published data\n",
    "* `data_description`: details on the axes properties of the associated CSV files\n",
    "* `electrochemical_system`: experimental details on the underlying electrochemical system\n",
    "\n",
    "The underlying information can be retrieved by `entry.name` or `entry['name']`, where name is the respective descriptor."
   ]
  },
  {
   "cell_type": "code",
   "execution_count": 60,
   "id": "bedcf7f0-927d-4eb1-999f-2c5b49c54afa",
   "metadata": {},
   "outputs": [
    {
     "data": {
      "text/plain": [
       "{'citation key': 'alves_2011_electrochemistry_6010', 'curve': 'solid', 'url': 'https://doi.org/10.1039/C0CP01001D', 'figure': '2a', 'version': 1}"
      ]
     },
     "execution_count": 60,
     "metadata": {},
     "output_type": "execute_result"
    }
   ],
   "source": [
    "entry['source']"
   ]
  },
  {
   "cell_type": "code",
   "execution_count": 61,
   "id": "305fb33a-1aeb-401f-a0af-d1c122c3bed5",
   "metadata": {},
   "outputs": [
    {
     "data": {
      "text/plain": [
       "{'citation key': 'alves_2011_electrochemistry_6010', 'curve': 'solid', 'url': 'https://doi.org/10.1039/C0CP01001D', 'figure': '2a', 'version': 1}"
      ]
     },
     "execution_count": 61,
     "metadata": {},
     "output_type": "execute_result"
    }
   ],
   "source": [
    "entry.source"
   ]
  },
  {
   "cell_type": "markdown",
   "id": "ad1971ca-3232-4808-8608-7e8d0b6c3199",
   "metadata": {},
   "source": [
    "Specific information can be retrieved by selecting the desired descriptor"
   ]
  },
  {
   "cell_type": "code",
   "execution_count": 62,
   "id": "36d10ff3-9bc3-47a0-a4f2-40e9fe422e94",
   "metadata": {},
   "outputs": [
    {
     "data": {
      "text/plain": [
       "'Ru'"
      ]
     },
     "execution_count": 62,
     "metadata": {},
     "output_type": "execute_result"
    }
   ],
   "source": [
    "entry.electrochemical_system.electrodes.working_electrode.material"
   ]
  },
  {
   "cell_type": "markdown",
   "id": "0002a2a1-b2ff-4d0a-a217-bcf279a75fd9",
   "metadata": {},
   "source": [
    "### Units and values\n",
    "Entries containing a unit and a value are nicely rendered"
   ]
  },
  {
   "cell_type": "code",
   "execution_count": 63,
   "id": "6cf7724e-57d0-4e45-8299-97574a93854b",
   "metadata": {},
   "outputs": [
    {
     "data": {
      "text/plain": [
       "0.05 V / s"
      ]
     },
     "execution_count": 63,
     "metadata": {},
     "output_type": "execute_result"
    }
   ],
   "source": [
    "entry.figure_description.scan_rate"
   ]
  },
  {
   "cell_type": "markdown",
   "id": "c326524d-9edf-46a9-942b-b71096dc55b7",
   "metadata": {},
   "source": [
    "The unit and valule can be accessed separately"
   ]
  },
  {
   "cell_type": "code",
   "execution_count": 64,
   "id": "ca4589ab-3db6-4f9f-b6e3-8fcdc7bdacf4",
   "metadata": {},
   "outputs": [
    {
     "data": {
      "text/plain": [
       "0.05"
      ]
     },
     "execution_count": 64,
     "metadata": {},
     "output_type": "execute_result"
    }
   ],
   "source": [
    "entry.figure_description.scan_rate.value"
   ]
  },
  {
   "cell_type": "code",
   "execution_count": 65,
   "id": "bb99661d-3122-4e55-9406-54da1daf5398",
   "metadata": {},
   "outputs": [
    {
     "data": {
      "text/plain": [
       "'V / s'"
      ]
     },
     "execution_count": 65,
     "metadata": {},
     "output_type": "execute_result"
    }
   ],
   "source": [
    "entry.figure_description.scan_rate.unit"
   ]
  },
  {
   "cell_type": "markdown",
   "id": "0f1035c6-aa91-44e6-bb19-1ed307dd3211",
   "metadata": {},
   "source": [
    "All units are compatible with [astropy units](https://docs.astropy.org/en/stable/units/index.html) to create quantities and make simple unit transformations or multiplications with [astropy units](https://docs.astropy.org/en/stable/units/index.html) or [atropy constants](https://docs.astropy.org/en/stable/constants/index.html)."
   ]
  },
  {
   "cell_type": "code",
   "execution_count": 55,
   "id": "19dd7e6d-a161-445b-badf-17864a46d0d5",
   "metadata": {},
   "outputs": [
    {
     "data": {
      "text/latex": [
       "$0.05 \\; \\mathrm{\\frac{V}{s}}$"
      ],
      "text/plain": [
       "<Quantity 0.05 V / s>"
      ]
     },
     "execution_count": 55,
     "metadata": {},
     "output_type": "execute_result"
    }
   ],
   "source": [
    "from astropy import units as u\n",
    "rate = entry.figure_description.scan_rate.value * u.Unit(entry.figure_description.scan_rate.unit)\n",
    "rate"
   ]
  },
  {
   "cell_type": "code",
   "execution_count": 58,
   "id": "08f44521-86b3-4313-919c-08144325bb3d",
   "metadata": {},
   "outputs": [
    {
     "data": {
      "text/plain": [
       "astropy.units.quantity.Quantity"
      ]
     },
     "execution_count": 58,
     "metadata": {},
     "output_type": "execute_result"
    }
   ],
   "source": [
    "type(rate)"
   ]
  },
  {
   "cell_type": "code",
   "execution_count": 57,
   "id": "81da62af-e0a3-43bc-8f55-6707701e7a01",
   "metadata": {},
   "outputs": [
    {
     "data": {
      "text/latex": [
       "$180000 \\; \\mathrm{\\frac{mV}{h}}$"
      ],
      "text/plain": [
       "<Quantity 180000. mV / h>"
      ]
     },
     "execution_count": 57,
     "metadata": {},
     "output_type": "execute_result"
    }
   ],
   "source": [
    "rate.to('mV / h')"
   ]
  },
  {
   "cell_type": "code",
   "execution_count": 71,
   "id": "bf72c7ab-4d9b-4462-a38d-9ca8fd9f586a",
   "metadata": {},
   "outputs": [
    {
     "data": {
      "text/latex": [
       "$3.7474057 \\times 10^{8} \\; \\mathrm{\\frac{m^{2}\\,V}{s^{2}}}$"
      ],
      "text/plain": [
       "<Quantity 3.74740572e+08 m2 V / s2>"
      ]
     },
     "execution_count": 71,
     "metadata": {},
     "output_type": "execute_result"
    }
   ],
   "source": [
    "from astropy import constants as c # c: speed of light\n",
    "rate * 25 * u.m * c.c"
   ]
  },
  {
   "cell_type": "markdown",
   "id": "00504584-985f-422c-91c6-3cb64cc96d18",
   "metadata": {
    "tags": []
   },
   "source": [
    "### Basic interactions"
   ]
  },
  {
   "cell_type": "code",
   "execution_count": null,
   "id": "9567e7bc-30fe-4ca1-9cc1-952e3c41d51d",
   "metadata": {},
   "outputs": [],
   "source": [
    "entry.electrochemical_system.electrodes.working_electrode.material == 'Pt'"
   ]
  },
  {
   "cell_type": "code",
   "execution_count": 37,
   "id": "d48e63bb-cd8c-4c5e-8ef3-84844bf15864",
   "metadata": {},
   "outputs": [
    {
     "data": {
      "text/plain": [
       "{'citation key': 'alves_2011_electrochemistry_6010', 'curve': 'solid', 'url': 'https://doi.org/10.1039/C0CP01001D', 'figure': '2a', 'version': 1}"
      ]
     },
     "execution_count": 37,
     "metadata": {},
     "output_type": "execute_result"
    }
   ],
   "source": [
    "entry.source"
   ]
  },
  {
   "cell_type": "markdown",
   "id": "d282f43a-8202-4c69-9341-00e640c47da2",
   "metadata": {},
   "source": [
    "### Dataframes"
   ]
  },
  {
   "cell_type": "code",
   "execution_count": null,
   "id": "aec3c98a-f17a-4ff0-8143-17ec641d50dd",
   "metadata": {},
   "outputs": [],
   "source": []
  },
  {
   "cell_type": "markdown",
   "id": "58b66da8-1fff-4eb6-9733-481dbab52f20",
   "metadata": {},
   "source": [
    "### Plots"
   ]
  },
  {
   "cell_type": "markdown",
   "id": "4270bf9a-6ce8-4d61-bb08-c408c0ecf984",
   "metadata": {},
   "source": [
    "## Bibliography"
   ]
  },
  {
   "cell_type": "markdown",
   "id": "31871a9a-6b6b-4887-affd-eba590ae4fb3",
   "metadata": {},
   "source": [
    "The bibliography to all entries is stored as a pybtex database `db.bibliography`, which is based on bibtex entries.\n",
    "Each entry has a citation key, which is not identical to its identifier (but is part of it), since several entries can be found in the same source.\n",
    "Both the citation key and the pybtex bibliography entry are accessible from the entry. "
   ]
  },
  {
   "cell_type": "code",
   "execution_count": 24,
   "id": "99e1df8c-572b-44f9-b2f7-2c1fe7a0259d",
   "metadata": {},
   "outputs": [
    {
     "data": {
      "text/plain": [
       "'alves_2011_electrochemistry_6010'"
      ]
     },
     "execution_count": 24,
     "metadata": {},
     "output_type": "execute_result"
    }
   ],
   "source": [
    "entry.source.citation_key"
   ]
  },
  {
   "cell_type": "code",
   "execution_count": 28,
   "id": "23465911-590c-419f-b9a9-cc985ce05340",
   "metadata": {},
   "outputs": [],
   "source": [
    "entry.bibliography"
   ]
  },
  {
   "cell_type": "code",
   "execution_count": null,
   "id": "1437ba13-0c56-4c04-8d48-d557894710ab",
   "metadata": {},
   "outputs": [],
   "source": [
    "The bibliography to the key is "
   ]
  },
  {
   "cell_type": "markdown",
   "id": "b8469f77-bd2c-4646-9faf-f762f433fd8d",
   "metadata": {},
   "source": [
    "With that key the bibliography can be retrieved from the db.bibliography"
   ]
  },
  {
   "cell_type": "code",
   "execution_count": 25,
   "id": "78fe15c3-39b8-4f14-8dab-6c668d0660e3",
   "metadata": {},
   "outputs": [
    {
     "ename": "TypeError",
     "evalue": "'BibliographyData' object is not subscriptable",
     "output_type": "error",
     "traceback": [
      "\u001b[1;31m---------------------------------------------------------------------------\u001b[0m",
      "\u001b[1;31mTypeError\u001b[0m                                 Traceback (most recent call last)",
      "\u001b[1;32m~\\AppData\\Local\\Temp/ipykernel_19824/1067164308.py\u001b[0m in \u001b[0;36m<module>\u001b[1;34m\u001b[0m\n\u001b[1;32m----> 1\u001b[1;33m \u001b[0mdb\u001b[0m\u001b[1;33m.\u001b[0m\u001b[0mbibliography\u001b[0m\u001b[1;33m[\u001b[0m\u001b[1;34m'alves_2011_electrochemistry_6010'\u001b[0m\u001b[1;33m]\u001b[0m\u001b[1;33m\u001b[0m\u001b[1;33m\u001b[0m\u001b[0m\n\u001b[0m",
      "\u001b[1;31mTypeError\u001b[0m: 'BibliographyData' object is not subscriptable"
     ]
    }
   ],
   "source": [
    "db.bibliography['alves_2011_electrochemistry_6010']"
   ]
  },
  {
   "cell_type": "code",
   "execution_count": null,
   "id": "7d2efacd-59a2-4f60-a8e5-d87a204fcf00",
   "metadata": {},
   "outputs": [],
   "source": []
  },
  {
   "cell_type": "code",
   "execution_count": null,
   "id": "dd149921-fd74-4d90-b8f0-b0814598d95e",
   "metadata": {},
   "outputs": [],
   "source": [
    "entry = db['alves_2011_electrochemistry_6010_p2_f2a_solid']"
   ]
  },
  {
   "cell_type": "code",
   "execution_count": null,
   "id": "f529b33b-0d16-44c0-83e3-2a14b45e2007",
   "metadata": {},
   "outputs": [],
   "source": [
    "entry.bibliography()"
   ]
  },
  {
   "cell_type": "code",
   "execution_count": 21,
   "id": "5fcfc49b-135e-4077-a86f-abbca6320ace",
   "metadata": {},
   "outputs": [
    {
     "data": {
      "text/plain": [
       "'alves_2011_electrochemistry_6010'"
      ]
     },
     "execution_count": 21,
     "metadata": {},
     "output_type": "execute_result"
    }
   ],
   "source": [
    "entry.source.citation_key"
   ]
  },
  {
   "cell_type": "code",
   "execution_count": null,
   "id": "92cd200a-a830-4fb7-8695-b511f2cf213a",
   "metadata": {},
   "outputs": [],
   "source": []
  },
  {
   "cell_type": "markdown",
   "id": "2c7be9af-15ea-4044-9984-7003232aa0b2",
   "metadata": {},
   "source": [
    "## Create database locally"
   ]
  },
  {
   "cell_type": "code",
   "execution_count": 1,
   "id": "d45ce8b5",
   "metadata": {},
   "outputs": [
    {
     "data": {
      "text/plain": [
       "1"
      ]
     },
     "execution_count": 1,
     "metadata": {},
     "output_type": "execute_result"
    }
   ],
   "source": [
    "a = 1\n",
    "a"
   ]
  },
  {
   "cell_type": "code",
   "execution_count": 2,
   "id": "d0422733",
   "metadata": {},
   "outputs": [
    {
     "name": "stdout",
     "output_type": "stream",
     "text": [
      "1\n"
     ]
    }
   ],
   "source": [
    "print(a)"
   ]
  },
  {
   "cell_type": "code",
   "execution_count": 3,
   "id": "4fb243b9",
   "metadata": {},
   "outputs": [],
   "source": [
    "import pandas as pd"
   ]
  },
  {
   "cell_type": "code",
   "execution_count": 1,
   "id": "99af5655",
   "metadata": {},
   "outputs": [
    {
     "data": {
      "text/plain": [
       "'test'"
      ]
     },
     "execution_count": 1,
     "metadata": {},
     "output_type": "execute_result"
    }
   ],
   "source": [
    "'test'"
   ]
  },
  {
   "cell_type": "code",
   "execution_count": null,
   "id": "a4adc771-c651-4d00-b47b-a3ef9eb75135",
   "metadata": {},
   "outputs": [],
   "source": []
  }
 ],
 "metadata": {
  "jupytext": {
   "formats": "md,ipynb"
  },
  "kernelspec": {
   "display_name": "Python 3 (ipykernel)",
   "language": "python",
   "name": "python3"
  },
  "language_info": {
   "codemirror_mode": {
    "name": "ipython",
    "version": 3
   },
   "file_extension": ".py",
   "mimetype": "text/x-python",
   "name": "python",
   "nbconvert_exporter": "python",
   "pygments_lexer": "ipython3",
   "version": "3.10.0"
  }
 },
 "nbformat": 4,
 "nbformat_minor": 5
}
